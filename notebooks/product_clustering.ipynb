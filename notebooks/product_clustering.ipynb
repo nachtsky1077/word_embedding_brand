{
 "cells": [
  {
   "cell_type": "code",
   "execution_count": 1,
   "metadata": {},
   "outputs": [],
   "source": [
    "%reload_ext autoreload\n",
    "%autoreload 2\n",
    "import sys\n",
    "sys.path.append('../')\n",
    "import gensim\n",
    "import numpy as np\n",
    "import json\n",
    "from brand.debiasing import EmbeddingDebias\n",
    "from brand.utils import get_embedding_mat\n",
    "\n",
    "# load word vector model\n",
    "pretrained_embedding_file = '../data/GoogleNews-vectors-negative300.bin.gz'\n",
    "kv = gensim.models.KeyedVectors.load_word2vec_format(pretrained_embedding_file, binary=True, limit=500000)"
   ]
  },
  {
   "cell_type": "code",
   "execution_count": 10,
   "metadata": {},
   "outputs": [
    {
     "output_type": "stream",
     "name": "stdout",
     "text": "cos similarity between Didi and Uber: 0.1372267\ncos similarity between Didi and Alibaba: 0.10909378\n"
    }
   ],
   "source": [
    "cos_sim_1 = kv['Didi'].dot(kv['Uber']) / (np.linalg.norm(kv['Didi']) * np.linalg.norm(kv['Uber']))\n",
    "cos_sim_2 = kv['Didi'].dot(kv['Alibaba']) / (np.linalg.norm(kv['Didi']) * np.linalg.norm(kv['Alibaba']))\n",
    "\n",
    "print('cos similarity between Didi and Uber:', cos_sim_1)\n",
    "print('cos similarity between Didi and Alibaba:', cos_sim_2)"
   ]
  },
  {
   "cell_type": "code",
   "execution_count": 11,
   "metadata": {},
   "outputs": [],
   "source": [
    "# debiasing country\n",
    "# load gender specific words\n",
    "country_cfg_file = '../vocab/country_us_china.json'\n",
    "with open(country_cfg_file, 'r') as f:\n",
    "    cfg = json.load(f)\n",
    "    country_ds = cfg['definite_sets']\n",
    "\n",
    "country_dmat = []\n",
    "for _, words in enumerate(country_ds):\n",
    "    mat = get_embedding_mat(words, kv)\n",
    "    country_dmat.append(np.asarray(mat))\n",
    "\n",
    "method = 'Hard'\n",
    "k = 1\n",
    "country_debias = EmbeddingDebias(country_dmat, embedding=kv, k=k, method=method)\n",
    "\n",
    "words = ['Didi', 'Uber', 'Alibaba']\n",
    "_, embedding_debiased, _ = country_debias.debiasing(words=words, eq_sets=country_ds)"
   ]
  },
  {
   "cell_type": "code",
   "execution_count": 12,
   "metadata": {},
   "outputs": [
    {
     "output_type": "stream",
     "name": "stdout",
     "text": "cos similarity between Didi and Uber: 0.13842283\ncos similarity between Didi and Alibaba: 0.085968584\n"
    }
   ],
   "source": [
    "# check cosine similarity after debiasing country\n",
    "cos_sim_1 = embedding_debiased[0].dot(embedding_debiased[1]) / (np.linalg.norm(embedding_debiased[0]) * np.linalg.norm(embedding_debiased[1]))\n",
    "cos_sim_2 = embedding_debiased[0].dot(embedding_debiased[2]) / (np.linalg.norm(embedding_debiased[0]) * np.linalg.norm(embedding_debiased[2]))\n",
    "\n",
    "print('cos similarity between Didi and Uber:', cos_sim_1)\n",
    "print('cos similarity between Didi and Alibaba:', cos_sim_2)"
   ]
  },
  {
   "cell_type": "code",
   "execution_count": 14,
   "metadata": {},
   "outputs": [
    {
     "output_type": "stream",
     "name": "stdout",
     "text": "cos similarity between Baidu and Google: 0.69934654\ncos similarity between Baidu and Didi: 0.08659812\n"
    }
   ],
   "source": [
    "brand1 = 'Baidu'\n",
    "brand2 = 'Google'\n",
    "brand3 = 'Didi'\n",
    "cos_sim_1 = kv[brand1].dot(kv[brand2]) / (np.linalg.norm(kv[brand1]) * np.linalg.norm(kv[brand2]))\n",
    "cos_sim_2 = kv[brand1].dot(kv[brand3]) / (np.linalg.norm(kv[brand1]) * np.linalg.norm(kv[brand3]))\n",
    "\n",
    "print('cos similarity between {} and {}:'.format(brand1, brand2), cos_sim_1)\n",
    "print('cos similarity between {} and {}:'.format(brand1, brand3), cos_sim_2)"
   ]
  },
  {
   "cell_type": "code",
   "execution_count": null,
   "metadata": {},
   "outputs": [],
   "source": [
    "words = [brand1, brand2, brand3]\n",
    "_, embedding_debiased, _ = country_debias.debiasing(words=words, eq_sets=country_ds)\n",
    "cos_sim_1 = embedding_debiased[0].dot(embedding_debiased[1]) / (np.linalg.norm(embedding_debiased[0]) * np.linalg.norm(embedding_debiased[1]))\n",
    "cos_sim_2 = embedding_debiased[0].dot(embedding_debiased[2]) / (np.linalg.norm(embedding_debiased[0]) * np.linalg.norm(embedding_debiased[2]))\n",
    "\n",
    "print('cos similarity between {} and {}:'.format(brand1, brand2), cos_sim_1)\n",
    "print('cos similarity between {} and {}:'.format(brand1, brand3), cos_sim_2)"
   ]
  }
 ],
 "metadata": {
  "language_info": {
   "codemirror_mode": {
    "name": "ipython",
    "version": 3
   },
   "file_extension": ".py",
   "mimetype": "text/x-python",
   "name": "python",
   "nbconvert_exporter": "python",
   "pygments_lexer": "ipython3",
   "version": "3.6.9-final"
  },
  "orig_nbformat": 2,
  "kernelspec": {
   "name": "dl4nlp",
   "display_name": "dl4nlp"
  }
 },
 "nbformat": 4,
 "nbformat_minor": 2
}