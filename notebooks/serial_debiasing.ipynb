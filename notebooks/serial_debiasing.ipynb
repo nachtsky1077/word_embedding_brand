{
 "cells": [
  {
   "cell_type": "code",
   "execution_count": 1,
   "metadata": {},
   "outputs": [],
   "source": [
    "%reload_ext autoreload\n",
    "%autoreload 2\n",
    "import sys\n",
    "sys.path.append('../')\n",
    "import gensim\n",
    "import numpy as np\n",
    "import json\n",
    "from brand.debiasing import EmbeddingDebias\n",
    "from brand.utils import get_embedding_mat"
   ]
  },
  {
   "cell_type": "code",
   "execution_count": 2,
   "metadata": {},
   "outputs": [],
   "source": [
    "# load word vector model\n",
    "pretrained_embedding_file = '../data/GoogleNews-vectors-negative300.bin.gz'\n",
    "kv = gensim.models.KeyedVectors.load_word2vec_format(pretrained_embedding_file, binary=True, limit=500000)"
   ]
  },
  {
   "cell_type": "code",
   "execution_count": 6,
   "metadata": {},
   "outputs": [],
   "source": [
    "# load gender specific words\n",
    "gender_cfg_file = '../vocab/gender.json'\n",
    "with open(gender_cfg_file, 'r') as f:\n",
    "    cfg = json.load(f)\n",
    "    ds_gender = cfg['definite_sets']"
   ]
  },
  {
   "cell_type": "code",
   "execution_count": 7,
   "metadata": {},
   "outputs": [],
   "source": [
    "# load race specific words\n",
    "race_cfg_file = '../vocab/race.json'\n",
    "with open(race_cfg_file, 'r') as f:\n",
    "    cfg = json.load(f)\n",
    "    ds_race = cfg['definite_sets']"
   ]
  },
  {
   "cell_type": "code",
   "execution_count": 8,
   "metadata": {},
   "outputs": [],
   "source": [
    "# prepare definitial (direction) matrix\n",
    "dmat_gender = []\n",
    "for _, words in enumerate(ds_gender):\n",
    "    mat = get_embedding_mat(words, kv)\n",
    "    dmat_gender.append(np.asarray(mat))"
   ]
  },
  {
   "cell_type": "code",
   "execution_count": 9,
   "metadata": {},
   "outputs": [],
   "source": [
    "# prepare definitial (direction) matrix\n",
    "dmat_race = []\n",
    "for _, words in enumerate(ds_race):\n",
    "    mat = get_embedding_mat(words, kv)\n",
    "    dmat_race.append(np.asarray(mat))"
   ]
  },
  {
   "cell_type": "code",
   "execution_count": 15,
   "metadata": {},
   "outputs": [],
   "source": [
    "# create 2 debiasing workers\n",
    "method = 'Hard'\n",
    "k = 1\n",
    "debias_gender = EmbeddingDebias(dmat_gender, embedding=kv, k=k, method=method)\n",
    "debias_race = EmbeddingDebias(dmat_race, embedding=kv, k=k, method=method)"
   ]
  },
  {
   "cell_type": "code",
   "execution_count": 28,
   "metadata": {},
   "outputs": [
    {
     "output_type": "stream",
     "name": "stdout",
     "text": "length of embedding: 4.031033\n"
    }
   ],
   "source": [
    "# check the brand embedding\n",
    "test_brand_word = 'Shiseido' # personal care company\n",
    "test_embedding = kv[test_brand_word]\n",
    "print('length of embedding:', np.linalg.norm(test_embedding))"
   ]
  },
  {
   "cell_type": "code",
   "execution_count": 17,
   "metadata": {},
   "outputs": [
    {
     "output_type": "stream",
     "name": "stdout",
     "text": "dot product of gender and Shiseido:[0.80453193]\ndot product of race and Shiseido:[0.3784532]\n"
    }
   ],
   "source": [
    "# dot product between subspace direction and the brand\n",
    "dot_res_gender = test_embedding.dot(debias_gender._B)\n",
    "print('dot product of gender and Shiseido:{}'.format(dot_res_gender))\n",
    "dot_res_race = test_embedding.dot(debias_race._B)\n",
    "print('dot product of race and Shiseido:{}'.format(dot_res_race))"
   ]
  },
  {
   "cell_type": "code",
   "execution_count": 26,
   "metadata": {},
   "outputs": [
    {
     "output_type": "stream",
     "name": "stdout",
     "text": "dot product of gender and Shiseido after gender debiasing:[-7.450581e-09]\ndot product of race and Shiseido after gender debiasing:[0.09195894]\n"
    }
   ],
   "source": [
    "# debias gender\n",
    "_, embedding_gender_debiased = debias_gender.debiasing([test_embedding.reshape((1, -1))])\n",
    "dot_res_gender_debiased = embedding_gender_debiased[0].reshape(-1,).dot(debias_gender._B)\n",
    "print('dot product of gender and Shiseido after gender debiasing:{}'.format(dot_res_gender_debiased))\n",
    "dot_res_race_gender_debiased = embedding_gender_debiased[0].reshape(-1,).dot(debias_race._B)\n",
    "print('dot product of race and Shiseido after gender debiasing:{}'.format(dot_res_race_gender_debiased))"
   ]
  },
  {
   "cell_type": "code",
   "execution_count": 31,
   "metadata": {},
   "outputs": [
    {
     "output_type": "execute_result",
     "data": {
      "text/plain": "0.018920083"
     },
     "metadata": {},
     "execution_count": 31
    }
   ],
   "source": [
    "# dot product between gender direction and race direction\n",
    "dot_gender_race = debias_race._B.reshape(-1, ).dot(debias_gender._B.reshape(-1, )) \n",
    "dot_gender_race"
   ]
  },
  {
   "cell_type": "code",
   "execution_count": 32,
   "metadata": {},
   "outputs": [
    {
     "output_type": "stream",
     "name": "stdout",
     "text": "dot product of race and Shiseido after race debiasing:[0.19869235]\n"
    }
   ],
   "source": [
    "# debias race then check its dot product with gender direction\n",
    "_, embedding_race_debiased = debias_race.debiasing([test_embedding.reshape((1, -1))])\n",
    "dot_res_race_debiased = embedding_race_debiased[0].reshape(-1,).dot(debias_._B)\n",
    "print('dot product of race and Shiseido after race debiasing:{}'.format(dot_res_race_debiased))"
   ]
  },
  {
   "cell_type": "code",
   "execution_count": null,
   "metadata": {},
   "outputs": [],
   "source": []
  }
 ],
 "metadata": {
  "language_info": {
   "codemirror_mode": {
    "name": "ipython",
    "version": 3
   },
   "file_extension": ".py",
   "mimetype": "text/x-python",
   "name": "python",
   "nbconvert_exporter": "python",
   "pygments_lexer": "ipython3",
   "version": "3.6.9-final"
  },
  "orig_nbformat": 2,
  "kernelspec": {
   "name": "dl4nlp",
   "display_name": "dl4nlp"
  }
 },
 "nbformat": 4,
 "nbformat_minor": 2
}